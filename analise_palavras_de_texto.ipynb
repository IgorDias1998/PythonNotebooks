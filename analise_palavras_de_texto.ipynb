{
 "cells": [
  {
   "cell_type": "code",
   "execution_count": 1,
   "id": "8644bb64",
   "metadata": {
    "scrolled": false
   },
   "outputs": [],
   "source": [
    "import collections\n",
    "\n",
    "def extrair_palavras(arquivo):\n",
    "    arquivo = open(arquivo, 'r')\n",
    "    texto_arquivo = arquivo.read()\n",
    "\n",
    "    palavras = texto_arquivo.split()\n",
    "    lista_correta = []\n",
    "    for i, palavra in enumerate(palavras):\n",
    "        if len(palavra) > 4:\n",
    "            lista_correta.append(palavra)\n",
    "    contagem = collections.Counter(lista_correta)\n",
    "    print(contagem.most_common(20))\n"
   ]
  },
  {
   "cell_type": "code",
   "execution_count": 2,
   "id": "64feabd4",
   "metadata": {},
   "outputs": [
    {
     "name": "stdout",
     "output_type": "stream",
     "text": [
      "[('tecnologia', 9), ('sociedade', 7), ('avanço', 6), ('novas', 6), ('mesmo', 5), ('tecnologias', 5), ('antes', 5), ('meios', 5), ('acaba', 4), ('desenvolvimento', 4), ('conhecimento', 4), ('mudanças', 4), ('comunicação', 4), ('assim', 4), ('relações', 4), ('Homem', 4), ('cidade', 3), ('nosso', 3), ('algumas', 3), ('sendo', 3)]\n"
     ]
    }
   ],
   "source": [
    "nome_arquivo = 'textobase2.docx.txt'\n",
    "extrair_palavras(nome_arquivo)"
   ]
  },
  {
   "cell_type": "code",
   "execution_count": 3,
   "id": "83334ba4",
   "metadata": {},
   "outputs": [
    {
     "name": "stdout",
     "output_type": "stream",
     "text": [
      "[('tecnologia', 74), ('entre', 23), ('mundo', 21), ('teoria', 18), ('filosofia', 17), ('essência', 16), ('sociedade', 15), ('valor', 15), ('coisas', 15), ('nossa', 15), ('valores', 13), ('pessoas', 12), ('natureza', 12), ('tecnologia.', 11), ('coisa', 11), ('nossas', 11), ('conhecimento', 10), ('assim', 10), ('gregos', 10), ('crítica', 10)]\n"
     ]
    }
   ],
   "source": [
    "nome_arquivo2 = 'textobase.txt'\n",
    "extrair_palavras(nome_arquivo2)"
   ]
  },
  {
   "cell_type": "code",
   "execution_count": null,
   "id": "0ea8827a",
   "metadata": {},
   "outputs": [],
   "source": []
  }
 ],
 "metadata": {
  "kernelspec": {
   "display_name": "Python 3 (ipykernel)",
   "language": "python",
   "name": "python3"
  },
  "language_info": {
   "codemirror_mode": {
    "name": "ipython",
    "version": 3
   },
   "file_extension": ".py",
   "mimetype": "text/x-python",
   "name": "python",
   "nbconvert_exporter": "python",
   "pygments_lexer": "ipython3",
   "version": "3.9.13"
  }
 },
 "nbformat": 4,
 "nbformat_minor": 5
}
